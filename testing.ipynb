{
 "cells": [
  {
   "cell_type": "code",
   "execution_count": 8,
   "id": "b5c7b0b9",
   "metadata": {},
   "outputs": [
    {
     "name": "stdout",
     "output_type": "stream",
     "text": [
      "['SQL Server', 'SQL Server Native Client RDA 11.0', 'ODBC Driver 17 for SQL Server', 'SQL Server Native Client 11.0', 'Microsoft Access Driver (*.mdb, *.accdb)', 'Microsoft Excel Driver (*.xls, *.xlsx, *.xlsm, *.xlsb)', 'Microsoft Access Text Driver (*.txt, *.csv)', 'Microsoft Access dBASE Driver (*.dbf, *.ndx, *.mdx)']\n"
     ]
    }
   ],
   "source": [
    "import pyodbc\n",
    "print(pyodbc.drivers())"
   ]
  },
  {
   "cell_type": "code",
   "execution_count": 1,
   "id": "24dfa3ad",
   "metadata": {},
   "outputs": [],
   "source": [
    "data = {\"P001\": {\"name\": \"Ananya Verma\", \"city\": \"Guwahati\", \"age\": 28, \"gender\": \"female\", \"height\": 1.65, \"weight\": 90.0, \"bmi\": 33.06, \"verdict\": \"Obese\"}, \"P002\": {\"name\": \"Ravi Mehta\", \"city\": \"Mumbai\", \"age\": 35, \"gender\": \"male\", \"height\": 1.75, \"weight\": 85, \"bmi\": 27.76, \"verdict\": \"Overweight\"}, \"P003\": {\"name\": \"Sneha Kulkarni\", \"city\": \"Pune\", \"age\": 22, \"gender\": \"female\", \"height\": 1.6, \"weight\": 45, \"bmi\": 17.58, \"verdict\": \"Underweight\"}, \"P004\": {\"name\": \"Arjun Verma\", \"city\": \"Mumbai\", \"age\": 40, \"gender\": \"male\", \"height\": 1.8, \"weight\": 90.0, \"bmi\": 27.78, \"verdict\": \"Normal\"}, \"P005\": {\"name\": \"Neha Sinha\", \"city\": \"Kolkata\", \"age\": 30, \"gender\": \"female\", \"height\": 1.55, \"weight\": 75, \"bmi\": 31.22, \"verdict\": \"Obese\"}}\n"
   ]
  },
  {
   "cell_type": "code",
   "execution_count": 5,
   "id": "c7099f25",
   "metadata": {},
   "outputs": [
    {
     "data": {
      "text/plain": [
       "dict"
      ]
     },
     "execution_count": 5,
     "metadata": {},
     "output_type": "execute_result"
    }
   ],
   "source": [
    "type(data[\"P001\"])"
   ]
  },
  {
   "cell_type": "code",
   "execution_count": 7,
   "id": "802b0e3d",
   "metadata": {},
   "outputs": [
    {
     "data": {
      "text/plain": [
       "[{'name': 'Arjun Verma',\n",
       "  'city': 'Mumbai',\n",
       "  'age': 40,\n",
       "  'gender': 'male',\n",
       "  'height': 1.8,\n",
       "  'weight': 90.0,\n",
       "  'bmi': 27.78,\n",
       "  'verdict': 'Normal'},\n",
       " {'name': 'Ravi Mehta',\n",
       "  'city': 'Mumbai',\n",
       "  'age': 35,\n",
       "  'gender': 'male',\n",
       "  'height': 1.75,\n",
       "  'weight': 85,\n",
       "  'bmi': 27.76,\n",
       "  'verdict': 'Overweight'},\n",
       " {'name': 'Ananya Verma',\n",
       "  'city': 'Guwahati',\n",
       "  'age': 28,\n",
       "  'gender': 'female',\n",
       "  'height': 1.65,\n",
       "  'weight': 90.0,\n",
       "  'bmi': 33.06,\n",
       "  'verdict': 'Obese'},\n",
       " {'name': 'Sneha Kulkarni',\n",
       "  'city': 'Pune',\n",
       "  'age': 22,\n",
       "  'gender': 'female',\n",
       "  'height': 1.6,\n",
       "  'weight': 45,\n",
       "  'bmi': 17.58,\n",
       "  'verdict': 'Underweight'},\n",
       " {'name': 'Neha Sinha',\n",
       "  'city': 'Kolkata',\n",
       "  'age': 30,\n",
       "  'gender': 'female',\n",
       "  'height': 1.55,\n",
       "  'weight': 75,\n",
       "  'bmi': 31.22,\n",
       "  'verdict': 'Obese'}]"
      ]
     },
     "execution_count": 7,
     "metadata": {},
     "output_type": "execute_result"
    }
   ],
   "source": [
    "sorted_data = sorted(data.values(),key = lambda x:x.get('height',0),reverse=True)\n",
    "sorted_data"
   ]
  },
  {
   "cell_type": "code",
   "execution_count": 2,
   "id": "fc944ffd",
   "metadata": {},
   "outputs": [
    {
     "data": {
      "text/plain": [
       "dict_values([{'name': 'Ananya Verma', 'city': 'Guwahati', 'age': 28, 'gender': 'female', 'height': 1.65, 'weight': 90.0, 'bmi': 33.06, 'verdict': 'Obese'}, {'name': 'Ravi Mehta', 'city': 'Mumbai', 'age': 35, 'gender': 'male', 'height': 1.75, 'weight': 85, 'bmi': 27.76, 'verdict': 'Overweight'}, {'name': 'Sneha Kulkarni', 'city': 'Pune', 'age': 22, 'gender': 'female', 'height': 1.6, 'weight': 45, 'bmi': 17.58, 'verdict': 'Underweight'}, {'name': 'Arjun Verma', 'city': 'Mumbai', 'age': 40, 'gender': 'male', 'height': 1.8, 'weight': 90.0, 'bmi': 27.78, 'verdict': 'Normal'}, {'name': 'Neha Sinha', 'city': 'Kolkata', 'age': 30, 'gender': 'female', 'height': 1.55, 'weight': 75, 'bmi': 31.22, 'verdict': 'Obese'}])"
      ]
     },
     "execution_count": 2,
     "metadata": {},
     "output_type": "execute_result"
    }
   ],
   "source": [
    "data.values()"
   ]
  },
  {
   "cell_type": "code",
   "execution_count": null,
   "id": "2a7ead05",
   "metadata": {},
   "outputs": [],
   "source": []
  }
 ],
 "metadata": {
  "kernelspec": {
   "display_name": "myfastapi_venv",
   "language": "python",
   "name": "python3"
  },
  "language_info": {
   "codemirror_mode": {
    "name": "ipython",
    "version": 3
   },
   "file_extension": ".py",
   "mimetype": "text/x-python",
   "name": "python",
   "nbconvert_exporter": "python",
   "pygments_lexer": "ipython3",
   "version": "3.9.0"
  }
 },
 "nbformat": 4,
 "nbformat_minor": 5
}
